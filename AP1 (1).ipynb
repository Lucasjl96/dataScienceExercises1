{
 "cells": [
  {
   "cell_type": "code",
   "execution_count": 1,
   "id": "1d76630d",
   "metadata": {},
   "outputs": [],
   "source": [
    "#importacion principal\n",
    "import pandas as pd\n",
    "import numpy as np\n",
    "import os\n",
    "os.chdir(\"C:/Users/Lucas/Desktop/Lucas/Programación/TECLAB - DATA SCIENCE/MATERIAS/1ER CUATRIMESTRE/BIMESTRE A/Analisis y visualizacion de datos/modulo 2/API2/ARCHIVOS\")"
   ]
  },
  {
   "cell_type": "code",
   "execution_count": 2,
   "id": "2abf7989",
   "metadata": {},
   "outputs": [],
   "source": [
    "#declaracion de variables\n",
    "poblacion = pd.read_csv(\"poblacion.csv\", encoding = 'latin-1')\n",
    "\n",
    "hog_viv_sup = pd.read_csv(\"hogares_viviendas_superficie.csv\", encoding = 'latin-1')\n"
   ]
  },
  {
   "cell_type": "code",
   "execution_count": 3,
   "id": "071e75e4",
   "metadata": {},
   "outputs": [],
   "source": [
    "#en el calculo deberemos extraer ==> poblacion, superficiekm2 de hogares-superficie"
   ]
  },
  {
   "cell_type": "code",
   "execution_count": 3,
   "id": "5235f401",
   "metadata": {},
   "outputs": [
    {
     "data": {
      "text/plain": [
       "<bound method DataFrame.drop_duplicates of     provincia_id            provincia  hogares  viviendas_particulares  \\\n",
       "0              2      Capital Federal  1150134                 1423973   \n",
       "1              6         Buenos Aires  4789484                 5377786   \n",
       "2             10            Catamarca    96001                  113634   \n",
       "3             14              Córdoba  1031843                 1232211   \n",
       "4             18           Corrientes   267797                  292644   \n",
       "5             22                Chaco   288422                  312602   \n",
       "6             26               Chubut   157166                  177985   \n",
       "7             30           Entre Ríos   375121                  425591   \n",
       "8             34              Formosa   140303                  154458   \n",
       "9             38                Jujuy   174630                  195785   \n",
       "10            42             La Pampa   107674                  133186   \n",
       "11            46             La Rioja    91097                  108967   \n",
       "12            50              Mendoza   494841                  538056   \n",
       "13            54             Misiones   302953                  330049   \n",
       "14            58              Neuquén   170057                  193733   \n",
       "15            62            Río Negro   199189                  236609   \n",
       "16            66                Salta   299794                  315186   \n",
       "17            70             San Juan   177155                  188655   \n",
       "18            74             San Luis   126922                  142049   \n",
       "19            78           Santa Cruz    81796                   93881   \n",
       "20            82             Santa Fe  1023777                 1143651   \n",
       "21            86  Santiago del Estero   218025                  242034   \n",
       "22            90              Tucumán   368538                  396040   \n",
       "23            94     Tierra del Fuego    38956                   43360   \n",
       "\n",
       "    viviendas_particulares_habitadas  superficie_km2  \n",
       "0                            1082998             200  \n",
       "1                            4425193          307571  \n",
       "2                              89376          102602  \n",
       "3                             978553          165321  \n",
       "4                             248844           88199  \n",
       "5                             270133           99633  \n",
       "6                             147176          224686  \n",
       "7                             357250           78781  \n",
       "8                             130134           72066  \n",
       "9                             154911           53219  \n",
       "10                            104797          143440  \n",
       "11                             86367           89680  \n",
       "12                            459550          148827  \n",
       "13                            290263           29801  \n",
       "14                            159302           94078  \n",
       "15                            190597          203013  \n",
       "16                            267075          155488  \n",
       "17                            162204           89651  \n",
       "18                            117766           76748  \n",
       "19                             76233          243943  \n",
       "20                            948369          133007  \n",
       "21                            197906          136351  \n",
       "22                            335821           22524  \n",
       "23                             36689         1002445  >"
      ]
     },
     "execution_count": 3,
     "metadata": {},
     "output_type": "execute_result"
    }
   ],
   "source": [
    "#filtros\n",
    "\n",
    "poblacion.drop_duplicates\n",
    "hog_viv_sup.drop_duplicates"
   ]
  },
  {
   "cell_type": "code",
   "execution_count": 4,
   "id": "cefe75da",
   "metadata": {},
   "outputs": [
    {
     "data": {
      "text/html": [
       "<div>\n",
       "<style scoped>\n",
       "    .dataframe tbody tr th:only-of-type {\n",
       "        vertical-align: middle;\n",
       "    }\n",
       "\n",
       "    .dataframe tbody tr th {\n",
       "        vertical-align: top;\n",
       "    }\n",
       "\n",
       "    .dataframe thead th {\n",
       "        text-align: right;\n",
       "    }\n",
       "</style>\n",
       "<table border=\"1\" class=\"dataframe\">\n",
       "  <thead>\n",
       "    <tr style=\"text-align: right;\">\n",
       "      <th></th>\n",
       "      <th>provincia</th>\n",
       "      <th>anio</th>\n",
       "      <th>poblacion_total</th>\n",
       "      <th>poblacion_varones</th>\n",
       "      <th>poblacion_mujeres</th>\n",
       "    </tr>\n",
       "  </thead>\n",
       "  <tbody>\n",
       "    <tr>\n",
       "      <th>0</th>\n",
       "      <td>Total País</td>\n",
       "      <td>2010</td>\n",
       "      <td>40788453</td>\n",
       "      <td>19940704</td>\n",
       "      <td>20847749</td>\n",
       "    </tr>\n",
       "    <tr>\n",
       "      <th>1</th>\n",
       "      <td>Total País</td>\n",
       "      <td>2011</td>\n",
       "      <td>41261490</td>\n",
       "      <td>20180791</td>\n",
       "      <td>21080699</td>\n",
       "    </tr>\n",
       "    <tr>\n",
       "      <th>2</th>\n",
       "      <td>Total País</td>\n",
       "      <td>2012</td>\n",
       "      <td>41733271</td>\n",
       "      <td>20420391</td>\n",
       "      <td>21312880</td>\n",
       "    </tr>\n",
       "    <tr>\n",
       "      <th>3</th>\n",
       "      <td>Total País</td>\n",
       "      <td>2013</td>\n",
       "      <td>42202935</td>\n",
       "      <td>20659037</td>\n",
       "      <td>21543898</td>\n",
       "    </tr>\n",
       "    <tr>\n",
       "      <th>4</th>\n",
       "      <td>Total País</td>\n",
       "      <td>2014</td>\n",
       "      <td>42669500</td>\n",
       "      <td>20896203</td>\n",
       "      <td>21773297</td>\n",
       "    </tr>\n",
       "    <tr>\n",
       "      <th>...</th>\n",
       "      <td>...</td>\n",
       "      <td>...</td>\n",
       "      <td>...</td>\n",
       "      <td>...</td>\n",
       "      <td>...</td>\n",
       "    </tr>\n",
       "    <tr>\n",
       "      <th>770</th>\n",
       "      <td>Tierra del Fuego</td>\n",
       "      <td>2036</td>\n",
       "      <td>241593</td>\n",
       "      <td>122567</td>\n",
       "      <td>119026</td>\n",
       "    </tr>\n",
       "    <tr>\n",
       "      <th>771</th>\n",
       "      <td>Tierra del Fuego</td>\n",
       "      <td>2037</td>\n",
       "      <td>245734</td>\n",
       "      <td>124625</td>\n",
       "      <td>121109</td>\n",
       "    </tr>\n",
       "    <tr>\n",
       "      <th>772</th>\n",
       "      <td>Tierra del Fuego</td>\n",
       "      <td>2038</td>\n",
       "      <td>249853</td>\n",
       "      <td>126670</td>\n",
       "      <td>123183</td>\n",
       "    </tr>\n",
       "    <tr>\n",
       "      <th>773</th>\n",
       "      <td>Tierra del Fuego</td>\n",
       "      <td>2039</td>\n",
       "      <td>253948</td>\n",
       "      <td>128702</td>\n",
       "      <td>125246</td>\n",
       "    </tr>\n",
       "    <tr>\n",
       "      <th>774</th>\n",
       "      <td>Tierra del Fuego</td>\n",
       "      <td>2040</td>\n",
       "      <td>258020</td>\n",
       "      <td>130721</td>\n",
       "      <td>127299</td>\n",
       "    </tr>\n",
       "  </tbody>\n",
       "</table>\n",
       "<p>775 rows × 5 columns</p>\n",
       "</div>"
      ],
      "text/plain": [
       "            provincia  anio  poblacion_total  poblacion_varones  \\\n",
       "0          Total País  2010         40788453           19940704   \n",
       "1          Total País  2011         41261490           20180791   \n",
       "2          Total País  2012         41733271           20420391   \n",
       "3          Total País  2013         42202935           20659037   \n",
       "4          Total País  2014         42669500           20896203   \n",
       "..                ...   ...              ...                ...   \n",
       "770  Tierra del Fuego  2036           241593             122567   \n",
       "771  Tierra del Fuego  2037           245734             124625   \n",
       "772  Tierra del Fuego  2038           249853             126670   \n",
       "773  Tierra del Fuego  2039           253948             128702   \n",
       "774  Tierra del Fuego  2040           258020             130721   \n",
       "\n",
       "     poblacion_mujeres  \n",
       "0             20847749  \n",
       "1             21080699  \n",
       "2             21312880  \n",
       "3             21543898  \n",
       "4             21773297  \n",
       "..                 ...  \n",
       "770             119026  \n",
       "771             121109  \n",
       "772             123183  \n",
       "773             125246  \n",
       "774             127299  \n",
       "\n",
       "[775 rows x 5 columns]"
      ]
     },
     "execution_count": 4,
     "metadata": {},
     "output_type": "execute_result"
    }
   ],
   "source": [
    "#filtros 2\n",
    "hog_viv_sup.dropna(axis=1)\n",
    "poblacion.dropna(axis=1)"
   ]
  },
  {
   "cell_type": "code",
   "execution_count": 6,
   "id": "057fa9d5",
   "metadata": {},
   "outputs": [],
   "source": [
    "#filtros para usar los elementos que nos sirven para calcular la nueva variable, en este caso vamos a necesitar\n",
    "# la poblacion total de cada provincia y la superficie\n",
    "\n"
   ]
  },
  {
   "cell_type": "code",
   "execution_count": 5,
   "id": "b678540d",
   "metadata": {},
   "outputs": [],
   "source": [
    "poblacion.drop(columns=\"poblacion_varones\", inplace = True)\n",
    "poblacion.drop(columns=\"poblacion_mujeres\", inplace = True)\n",
    "\n"
   ]
  },
  {
   "cell_type": "code",
   "execution_count": 6,
   "id": "42bb8056",
   "metadata": {},
   "outputs": [],
   "source": [
    "hog_viv_sup.drop(columns=\"viviendas_particulares\", inplace = True)\n",
    "hog_viv_sup.drop(columns=\"viviendas_particulares_habitadas\", inplace = True)\n"
   ]
  },
  {
   "cell_type": "code",
   "execution_count": 7,
   "id": "0412b900",
   "metadata": {},
   "outputs": [],
   "source": [
    "hog_viv_sup.drop(columns=\"hogares\", inplace = True)"
   ]
  },
  {
   "cell_type": "code",
   "execution_count": 8,
   "id": "685fe1a5",
   "metadata": {},
   "outputs": [],
   "source": [
    "#aplicamos otro filtro\n",
    "poblacion_f = poblacion[poblacion[\"anio\"] <= 2024]\n",
    "poblacion_f1 = poblacion_f[poblacion_f['provincia'] != 'Total País']"
   ]
  },
  {
   "cell_type": "code",
   "execution_count": 9,
   "id": "e74f215d",
   "metadata": {},
   "outputs": [],
   "source": [
    "poblacion_densidad = pd.merge(poblacion_f1, hog_viv_sup, left_on = [\"provincia\"], right_on = [\"provincia\"], how = 'left')"
   ]
  },
  {
   "cell_type": "code",
   "execution_count": 10,
   "id": "ce11140a",
   "metadata": {},
   "outputs": [
    {
     "data": {
      "text/html": [
       "<div>\n",
       "<style scoped>\n",
       "    .dataframe tbody tr th:only-of-type {\n",
       "        vertical-align: middle;\n",
       "    }\n",
       "\n",
       "    .dataframe tbody tr th {\n",
       "        vertical-align: top;\n",
       "    }\n",
       "\n",
       "    .dataframe thead th {\n",
       "        text-align: right;\n",
       "    }\n",
       "</style>\n",
       "<table border=\"1\" class=\"dataframe\">\n",
       "  <thead>\n",
       "    <tr style=\"text-align: right;\">\n",
       "      <th></th>\n",
       "      <th>provincia</th>\n",
       "      <th>anio</th>\n",
       "      <th>poblacion_total</th>\n",
       "      <th>provincia_id</th>\n",
       "      <th>superficie_km2</th>\n",
       "      <th>densidad_poblacional</th>\n",
       "    </tr>\n",
       "  </thead>\n",
       "  <tbody>\n",
       "    <tr>\n",
       "      <th>0</th>\n",
       "      <td>Capital Federal</td>\n",
       "      <td>2010</td>\n",
       "      <td>3028481</td>\n",
       "      <td>2</td>\n",
       "      <td>200</td>\n",
       "      <td>15142.405000</td>\n",
       "    </tr>\n",
       "    <tr>\n",
       "      <th>1</th>\n",
       "      <td>Capital Federal</td>\n",
       "      <td>2011</td>\n",
       "      <td>3033639</td>\n",
       "      <td>2</td>\n",
       "      <td>200</td>\n",
       "      <td>15168.195000</td>\n",
       "    </tr>\n",
       "    <tr>\n",
       "      <th>2</th>\n",
       "      <td>Capital Federal</td>\n",
       "      <td>2012</td>\n",
       "      <td>3038860</td>\n",
       "      <td>2</td>\n",
       "      <td>200</td>\n",
       "      <td>15194.300000</td>\n",
       "    </tr>\n",
       "    <tr>\n",
       "      <th>3</th>\n",
       "      <td>Capital Federal</td>\n",
       "      <td>2013</td>\n",
       "      <td>3044076</td>\n",
       "      <td>2</td>\n",
       "      <td>200</td>\n",
       "      <td>15220.380000</td>\n",
       "    </tr>\n",
       "    <tr>\n",
       "      <th>4</th>\n",
       "      <td>Capital Federal</td>\n",
       "      <td>2014</td>\n",
       "      <td>3049229</td>\n",
       "      <td>2</td>\n",
       "      <td>200</td>\n",
       "      <td>15246.145000</td>\n",
       "    </tr>\n",
       "    <tr>\n",
       "      <th>...</th>\n",
       "      <td>...</td>\n",
       "      <td>...</td>\n",
       "      <td>...</td>\n",
       "      <td>...</td>\n",
       "      <td>...</td>\n",
       "      <td>...</td>\n",
       "    </tr>\n",
       "    <tr>\n",
       "      <th>355</th>\n",
       "      <td>Tierra del Fuego</td>\n",
       "      <td>2020</td>\n",
       "      <td>173432</td>\n",
       "      <td>94</td>\n",
       "      <td>1002445</td>\n",
       "      <td>0.173009</td>\n",
       "    </tr>\n",
       "    <tr>\n",
       "      <th>356</th>\n",
       "      <td>Tierra del Fuego</td>\n",
       "      <td>2021</td>\n",
       "      <td>177697</td>\n",
       "      <td>94</td>\n",
       "      <td>1002445</td>\n",
       "      <td>0.177264</td>\n",
       "    </tr>\n",
       "    <tr>\n",
       "      <th>357</th>\n",
       "      <td>Tierra del Fuego</td>\n",
       "      <td>2022</td>\n",
       "      <td>181983</td>\n",
       "      <td>94</td>\n",
       "      <td>1002445</td>\n",
       "      <td>0.181539</td>\n",
       "    </tr>\n",
       "    <tr>\n",
       "      <th>358</th>\n",
       "      <td>Tierra del Fuego</td>\n",
       "      <td>2023</td>\n",
       "      <td>186285</td>\n",
       "      <td>94</td>\n",
       "      <td>1002445</td>\n",
       "      <td>0.185831</td>\n",
       "    </tr>\n",
       "    <tr>\n",
       "      <th>359</th>\n",
       "      <td>Tierra del Fuego</td>\n",
       "      <td>2024</td>\n",
       "      <td>190601</td>\n",
       "      <td>94</td>\n",
       "      <td>1002445</td>\n",
       "      <td>0.190136</td>\n",
       "    </tr>\n",
       "  </tbody>\n",
       "</table>\n",
       "<p>360 rows × 6 columns</p>\n",
       "</div>"
      ],
      "text/plain": [
       "            provincia  anio  poblacion_total  provincia_id  superficie_km2  \\\n",
       "0     Capital Federal  2010          3028481             2             200   \n",
       "1     Capital Federal  2011          3033639             2             200   \n",
       "2     Capital Federal  2012          3038860             2             200   \n",
       "3     Capital Federal  2013          3044076             2             200   \n",
       "4     Capital Federal  2014          3049229             2             200   \n",
       "..                ...   ...              ...           ...             ...   \n",
       "355  Tierra del Fuego  2020           173432            94         1002445   \n",
       "356  Tierra del Fuego  2021           177697            94         1002445   \n",
       "357  Tierra del Fuego  2022           181983            94         1002445   \n",
       "358  Tierra del Fuego  2023           186285            94         1002445   \n",
       "359  Tierra del Fuego  2024           190601            94         1002445   \n",
       "\n",
       "     densidad_poblacional  \n",
       "0            15142.405000  \n",
       "1            15168.195000  \n",
       "2            15194.300000  \n",
       "3            15220.380000  \n",
       "4            15246.145000  \n",
       "..                    ...  \n",
       "355              0.173009  \n",
       "356              0.177264  \n",
       "357              0.181539  \n",
       "358              0.185831  \n",
       "359              0.190136  \n",
       "\n",
       "[360 rows x 6 columns]"
      ]
     },
     "execution_count": 10,
     "metadata": {},
     "output_type": "execute_result"
    }
   ],
   "source": [
    "#calculo de densidad poblacional\n",
    "poblacion_densidad['densidad_poblacional'] = poblacion_densidad['poblacion_total']/ poblacion_densidad['superficie_km2']\n",
    "poblacion_densidad"
   ]
  },
  {
   "cell_type": "code",
   "execution_count": 11,
   "id": "384f3846",
   "metadata": {},
   "outputs": [
    {
     "data": {
      "text/plain": [
       "15427.415"
      ]
     },
     "execution_count": 11,
     "metadata": {},
     "output_type": "execute_result"
    }
   ],
   "source": [
    "#valores extremos de densidad de poblacion\n",
    "mostrar1 = np.max(poblacion_densidad[\"densidad_poblacional\"])\n",
    "mostrar1"
   ]
  },
  {
   "cell_type": "code",
   "execution_count": 12,
   "id": "53e8e782",
   "metadata": {},
   "outputs": [
    {
     "data": {
      "text/plain": [
       "0.1313398740080503"
      ]
     },
     "execution_count": 12,
     "metadata": {},
     "output_type": "execute_result"
    }
   ],
   "source": [
    "mostrar2 = np.min(poblacion_densidad[\"densidad_poblacional\"])\n",
    "mostrar2"
   ]
  },
  {
   "cell_type": "code",
   "execution_count": 13,
   "id": "b47623be",
   "metadata": {},
   "outputs": [
    {
     "data": {
      "text/plain": [
       "provincia                object\n",
       "anio                      int64\n",
       "poblacion_total           int64\n",
       "provincia_id              int64\n",
       "superficie_km2            int64\n",
       "densidad_poblacional    float64\n",
       "dtype: object"
      ]
     },
     "execution_count": 13,
     "metadata": {},
     "output_type": "execute_result"
    }
   ],
   "source": [
    "#una vez obtenidos los valores extremos haremos un filtro para saber de donde vienen\n",
    "poblacion_densidad.dtypes"
   ]
  },
  {
   "cell_type": "code",
   "execution_count": 14,
   "id": "f1d73c36",
   "metadata": {},
   "outputs": [
    {
     "data": {
      "text/html": [
       "<div>\n",
       "<style scoped>\n",
       "    .dataframe tbody tr th:only-of-type {\n",
       "        vertical-align: middle;\n",
       "    }\n",
       "\n",
       "    .dataframe tbody tr th {\n",
       "        vertical-align: top;\n",
       "    }\n",
       "\n",
       "    .dataframe thead th {\n",
       "        text-align: right;\n",
       "    }\n",
       "</style>\n",
       "<table border=\"1\" class=\"dataframe\">\n",
       "  <thead>\n",
       "    <tr style=\"text-align: right;\">\n",
       "      <th></th>\n",
       "      <th>provincia</th>\n",
       "      <th>anio</th>\n",
       "      <th>poblacion_total</th>\n",
       "      <th>provincia_id</th>\n",
       "      <th>superficie_km2</th>\n",
       "      <th>densidad_poblacional</th>\n",
       "    </tr>\n",
       "  </thead>\n",
       "  <tbody>\n",
       "    <tr>\n",
       "      <th>345</th>\n",
       "      <td>Tierra del Fuego</td>\n",
       "      <td>2010</td>\n",
       "      <td>131661</td>\n",
       "      <td>94</td>\n",
       "      <td>1002445</td>\n",
       "      <td>0.13134</td>\n",
       "    </tr>\n",
       "  </tbody>\n",
       "</table>\n",
       "</div>"
      ],
      "text/plain": [
       "            provincia  anio  poblacion_total  provincia_id  superficie_km2  \\\n",
       "345  Tierra del Fuego  2010           131661            94         1002445   \n",
       "\n",
       "     densidad_poblacional  \n",
       "345               0.13134  "
      ]
     },
     "execution_count": 14,
     "metadata": {},
     "output_type": "execute_result"
    }
   ],
   "source": [
    "mostrar_extremo_menor = poblacion_densidad[poblacion_densidad[\"densidad_poblacional\"] == 0.1313398740080503]\n",
    "mostrar_extremo_menor"
   ]
  },
  {
   "cell_type": "code",
   "execution_count": 15,
   "id": "69226c1d",
   "metadata": {},
   "outputs": [
    {
     "data": {
      "text/html": [
       "<div>\n",
       "<style scoped>\n",
       "    .dataframe tbody tr th:only-of-type {\n",
       "        vertical-align: middle;\n",
       "    }\n",
       "\n",
       "    .dataframe tbody tr th {\n",
       "        vertical-align: top;\n",
       "    }\n",
       "\n",
       "    .dataframe thead th {\n",
       "        text-align: right;\n",
       "    }\n",
       "</style>\n",
       "<table border=\"1\" class=\"dataframe\">\n",
       "  <thead>\n",
       "    <tr style=\"text-align: right;\">\n",
       "      <th></th>\n",
       "      <th>provincia</th>\n",
       "      <th>anio</th>\n",
       "      <th>poblacion_total</th>\n",
       "      <th>provincia_id</th>\n",
       "      <th>superficie_km2</th>\n",
       "      <th>densidad_poblacional</th>\n",
       "    </tr>\n",
       "  </thead>\n",
       "  <tbody>\n",
       "    <tr>\n",
       "      <th>14</th>\n",
       "      <td>Capital Federal</td>\n",
       "      <td>2024</td>\n",
       "      <td>3085483</td>\n",
       "      <td>2</td>\n",
       "      <td>200</td>\n",
       "      <td>15427.415</td>\n",
       "    </tr>\n",
       "  </tbody>\n",
       "</table>\n",
       "</div>"
      ],
      "text/plain": [
       "          provincia  anio  poblacion_total  provincia_id  superficie_km2  \\\n",
       "14  Capital Federal  2024          3085483             2             200   \n",
       "\n",
       "    densidad_poblacional  \n",
       "14             15427.415  "
      ]
     },
     "execution_count": 15,
     "metadata": {},
     "output_type": "execute_result"
    }
   ],
   "source": [
    "mostrar_extremo_mayor = poblacion_densidad[poblacion_densidad[\"densidad_poblacional\"] == 15427.415]\n",
    "mostrar_extremo_mayor"
   ]
  },
  {
   "cell_type": "code",
   "execution_count": null,
   "id": "359fe4f0",
   "metadata": {},
   "outputs": [],
   "source": [
    "# Aqui identificamos ambos valores extremos en densidad poblacional, en el caso del menor tiene muy poca poblacion con respecto\n",
    "# a su superficie total, y caso contrario en el mayor, demasiado poblacion para muy poco espacio en superficie x km2"
   ]
  }
 ],
 "metadata": {
  "kernelspec": {
   "display_name": "Python 3 (ipykernel)",
   "language": "python",
   "name": "python3"
  },
  "language_info": {
   "codemirror_mode": {
    "name": "ipython",
    "version": 3
   },
   "file_extension": ".py",
   "mimetype": "text/x-python",
   "name": "python",
   "nbconvert_exporter": "python",
   "pygments_lexer": "ipython3",
   "version": "3.11.4"
  }
 },
 "nbformat": 4,
 "nbformat_minor": 5
}
